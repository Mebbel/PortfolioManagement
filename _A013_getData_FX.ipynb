{
 "cells": [
  {
   "cell_type": "markdown",
   "metadata": {},
   "source": [
    "# FX Data"
   ]
  },
  {
   "cell_type": "code",
   "execution_count": 6,
   "metadata": {},
   "outputs": [],
   "source": [
    "# General\n",
    "import pandas as pd\n",
    "from datetime import datetime\n",
    "import random\n",
    "import time\n",
    "from dateutil.relativedelta import relativedelta\n",
    "\n",
    "from itertools import permutations\n",
    "\n",
    "# File download\n",
    "import yfinance as yf \n",
    "from tqdm.notebook import tqdm, trange\n",
    "\n",
    "# Custom modules\n",
    "from Tools import S3\n",
    "\n",
    "# Hidden configurations\n",
    "from mySecrets import config_file, AWS_ACCESS_KEY_ID, AWS_SECRET_ACCESS_KEY, AWS_BUCKET\n"
   ]
  },
  {
   "cell_type": "code",
   "execution_count": 3,
   "metadata": {},
   "outputs": [
    {
     "name": "stdout",
     "output_type": "stream",
     "text": [
      "Connected.\n"
     ]
    }
   ],
   "source": [
    "# Connect to AWS S3 storage\n",
    "s3 = S3()\n",
    "s3.connect(AWS_ACCESS_KEY_ID, AWS_SECRET_ACCESS_KEY)"
   ]
  },
  {
   "cell_type": "code",
   "execution_count": 4,
   "metadata": {},
   "outputs": [],
   "source": [
    "# Settings\n",
    "\n",
    "# Define date range\n",
    "date_start = '2014-01-01'\n",
    "date_end = datetime.today()\n",
    "\n",
    "# List of currencies\n",
    "l_ccy = ['USD', 'EUR', 'GBP', 'CHF', 'JPY', 'SEK', 'SGD']"
   ]
  },
  {
   "cell_type": "code",
   "execution_count": 7,
   "metadata": {},
   "outputs": [
    {
     "data": {
      "text/html": [
       "<div>\n",
       "<style scoped>\n",
       "    .dataframe tbody tr th:only-of-type {\n",
       "        vertical-align: middle;\n",
       "    }\n",
       "\n",
       "    .dataframe tbody tr th {\n",
       "        vertical-align: top;\n",
       "    }\n",
       "\n",
       "    .dataframe thead th {\n",
       "        text-align: right;\n",
       "    }\n",
       "</style>\n",
       "<table border=\"1\" class=\"dataframe\">\n",
       "  <thead>\n",
       "    <tr style=\"text-align: right;\">\n",
       "      <th></th>\n",
       "      <th>ccy_from</th>\n",
       "      <th>ccy_to</th>\n",
       "      <th>Symbol</th>\n",
       "    </tr>\n",
       "  </thead>\n",
       "  <tbody>\n",
       "    <tr>\n",
       "      <th>0</th>\n",
       "      <td>USD</td>\n",
       "      <td>EUR</td>\n",
       "      <td>USDEUR=X</td>\n",
       "    </tr>\n",
       "    <tr>\n",
       "      <th>1</th>\n",
       "      <td>USD</td>\n",
       "      <td>GBP</td>\n",
       "      <td>USDGBP=X</td>\n",
       "    </tr>\n",
       "    <tr>\n",
       "      <th>2</th>\n",
       "      <td>USD</td>\n",
       "      <td>CHF</td>\n",
       "      <td>USDCHF=X</td>\n",
       "    </tr>\n",
       "    <tr>\n",
       "      <th>3</th>\n",
       "      <td>USD</td>\n",
       "      <td>JPY</td>\n",
       "      <td>USDJPY=X</td>\n",
       "    </tr>\n",
       "    <tr>\n",
       "      <th>4</th>\n",
       "      <td>USD</td>\n",
       "      <td>SEK</td>\n",
       "      <td>USDSEK=X</td>\n",
       "    </tr>\n",
       "  </tbody>\n",
       "</table>\n",
       "</div>"
      ],
      "text/plain": [
       "  ccy_from ccy_to    Symbol\n",
       "0      USD    EUR  USDEUR=X\n",
       "1      USD    GBP  USDGBP=X\n",
       "2      USD    CHF  USDCHF=X\n",
       "3      USD    JPY  USDJPY=X\n",
       "4      USD    SEK  USDSEK=X"
      ]
     },
     "execution_count": 7,
     "metadata": {},
     "output_type": "execute_result"
    }
   ],
   "source": [
    "# Create all combinations of ccy symbols\n",
    "df_ccy = pd.DataFrame(\n",
    "    list(permutations(l_ccy, 2)),\n",
    "    columns = ['ccy_from', 'ccy_to']\n",
    ")\n",
    "\n",
    "# Infer symbol\n",
    "df_ccy['Symbol'] = df_ccy.ccy_from + df_ccy.ccy_to + \"=X\"\n",
    "\n",
    "df_ccy.head()"
   ]
  },
  {
   "cell_type": "code",
   "execution_count": 8,
   "metadata": {},
   "outputs": [
    {
     "data": {
      "text/plain": [
       "'USDEUR=X USDGBP=X USDCHF=X USDJPY=X USDSEK=X USDSG'"
      ]
     },
     "execution_count": 8,
     "metadata": {},
     "output_type": "execute_result"
    }
   ],
   "source": [
    "symbols = ' '.join(df_ccy.Symbol)\n",
    "symbols[:50]"
   ]
  },
  {
   "cell_type": "code",
   "execution_count": 9,
   "metadata": {},
   "outputs": [
    {
     "name": "stdout",
     "output_type": "stream",
     "text": [
      "[*********************100%***********************]  42 of 42 completed\n"
     ]
    }
   ],
   "source": [
    "data = yf.download(tickers = symbols, interval = \"1d\", start = date_start, end = date_end, group_by = 'ticker')"
   ]
  },
  {
   "cell_type": "code",
   "execution_count": 10,
   "metadata": {},
   "outputs": [],
   "source": [
    "# Check which symbols failed\n",
    "df = data.stack(level = 0).rename_axis(['Date', 'Symbol']).reset_index(level = 1)\n",
    "\n",
    "# Resetindex to make date-index a column that can be stored in files\n",
    "df = df.reset_index()\n",
    "\n",
    "# Sort columns and keep relevant ones, for now\n",
    "df = df[['Symbol', 'Date', 'Adj Close', 'Open', 'High', 'Low', 'Close', 'Volume']]\n",
    "\n",
    "# Separate by symbols\n",
    "# PL 10.01.2022 -> group by Symbols\n",
    "grouped = df.groupby(df['Symbol'])"
   ]
  },
  {
   "cell_type": "code",
   "execution_count": null,
   "metadata": {},
   "outputs": [],
   "source": [
    "# Upload file to s3 storage\n",
    "\n",
    "date = datetime.now().strftime('%Y_%m_%d')\n",
    "print(date)\n",
    "\n",
    "# store as tsv\n",
    "for g in grouped.groups.keys():\n",
    "\n",
    "    temp = grouped.get_group(g)\n",
    "\n",
    "    s3.uploadFile(\n",
    "        df = temp, \n",
    "        name = g,\n",
    "        dir = 'data/fx_raw/' + date + \"/\",\n",
    "        bucket = \"pomato\"\n",
    "    )    "
   ]
  }
 ],
 "metadata": {
  "interpreter": {
   "hash": "869cfd7152767b6c01cc3b1a533d38f34d102a29f7c510c98fad66d349226c64"
  },
  "kernelspec": {
   "display_name": "Python 3.8.10 64-bit",
   "name": "python3"
  },
  "language_info": {
   "codemirror_mode": {
    "name": "ipython",
    "version": 3
   },
   "file_extension": ".py",
   "mimetype": "text/x-python",
   "name": "python",
   "nbconvert_exporter": "python",
   "pygments_lexer": "ipython3",
   "version": "3.8.10"
  },
  "orig_nbformat": 4
 },
 "nbformat": 4,
 "nbformat_minor": 2
}
