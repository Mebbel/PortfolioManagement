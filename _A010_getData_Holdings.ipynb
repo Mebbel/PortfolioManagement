{
 "cells": [
  {
   "cell_type": "markdown",
   "metadata": {},
   "source": [
    "# Download and transform all holdings data\n",
    "\n",
    "Download holding data from ETF-provider in native format: csv, xls, xlsx\n",
    "\n",
    "Extract holdings and map to its unique identifier: ISIN\n",
    "\n",
    "Try to extract as much information as possible and push as transformed data to S3.\n",
    "\n",
    "## Problems:\n",
    "iShares changed columns provided for holdings. ISIN column no longer available. Need to map over name or (Symbol, Exchange).\n",
    "This is really cumbersome and can be a serious problem of data quality. \n",
    "\n",
    "Work in progress.\n",
    "\n",
    "\n",
    "\n",
    "\n"
   ]
  },
  {
   "cell_type": "code",
   "execution_count": 1,
   "metadata": {},
   "outputs": [],
   "source": [
    "# General\n",
    "import pandas as pd\n",
    "from datetime import datetime\n",
    "import random\n",
    "import time\n",
    "\n",
    "# File download\n",
    "import json\n",
    "import urllib3\n",
    "from tqdm.notebook import tqdm, trange\n",
    "\n",
    "# AWS S3 Storage\n",
    "import boto3\n",
    "\n",
    "# Custom modules\n",
    "from FundDataScraper import readData_ETF, cleanData_ETF\n",
    "import Tools\n",
    "\n",
    "# Hidden configurations\n",
    "from mySecrets import config_file, AWS_ACCESS_KEY_ID, AWS_SECRET_ACCESS_KEY, AWS_BUCKET\n"
   ]
  },
  {
   "cell_type": "code",
   "execution_count": 2,
   "metadata": {},
   "outputs": [
    {
     "data": {
      "text/html": [
       "<div>\n",
       "<style scoped>\n",
       "    .dataframe tbody tr th:only-of-type {\n",
       "        vertical-align: middle;\n",
       "    }\n",
       "\n",
       "    .dataframe tbody tr th {\n",
       "        vertical-align: top;\n",
       "    }\n",
       "\n",
       "    .dataframe thead th {\n",
       "        text-align: right;\n",
       "    }\n",
       "</style>\n",
       "<table border=\"1\" class=\"dataframe\">\n",
       "  <thead>\n",
       "    <tr style=\"text-align: right;\">\n",
       "      <th></th>\n",
       "      <th>Security_ISIN</th>\n",
       "      <th>Fund_Company</th>\n",
       "      <th>Type</th>\n",
       "      <th>URL_Positions</th>\n",
       "      <th>URL_Positions_FileType</th>\n",
       "    </tr>\n",
       "  </thead>\n",
       "  <tbody>\n",
       "    <tr>\n",
       "      <th>12</th>\n",
       "      <td>IE00B8KGV557</td>\n",
       "      <td>iShares</td>\n",
       "      <td>Aktien</td>\n",
       "      <td>https://www.ishares.com/de/privatanleger/de/pr...</td>\n",
       "      <td>csv</td>\n",
       "    </tr>\n",
       "    <tr>\n",
       "      <th>13</th>\n",
       "      <td>IE00B86MWN23</td>\n",
       "      <td>iShares</td>\n",
       "      <td>Aktien</td>\n",
       "      <td>https://www.ishares.com/de/privatanleger/de/pr...</td>\n",
       "      <td>csv</td>\n",
       "    </tr>\n",
       "    <tr>\n",
       "      <th>14</th>\n",
       "      <td>IE00B8FHGS14</td>\n",
       "      <td>iShares</td>\n",
       "      <td>Aktien</td>\n",
       "      <td>https://www.ishares.com/de/privatanleger/de/pr...</td>\n",
       "      <td>csv</td>\n",
       "    </tr>\n",
       "    <tr>\n",
       "      <th>15</th>\n",
       "      <td>IE00B6SPMN59</td>\n",
       "      <td>iShares</td>\n",
       "      <td>Aktien</td>\n",
       "      <td>https://www.ishares.com/de/privatanleger/de/pr...</td>\n",
       "      <td>csv</td>\n",
       "    </tr>\n",
       "    <tr>\n",
       "      <th>16</th>\n",
       "      <td>IE00B27YCP72</td>\n",
       "      <td>iShares</td>\n",
       "      <td>Aktien</td>\n",
       "      <td>https://www.ishares.com/de/privatanleger/de/pr...</td>\n",
       "      <td>csv</td>\n",
       "    </tr>\n",
       "  </tbody>\n",
       "</table>\n",
       "</div>"
      ],
      "text/plain": [
       "   Security_ISIN Fund_Company    Type  \\\n",
       "12  IE00B8KGV557      iShares  Aktien   \n",
       "13  IE00B86MWN23      iShares  Aktien   \n",
       "14  IE00B8FHGS14      iShares  Aktien   \n",
       "15  IE00B6SPMN59      iShares  Aktien   \n",
       "16  IE00B27YCP72      iShares  Aktien   \n",
       "\n",
       "                                        URL_Positions URL_Positions_FileType  \n",
       "12  https://www.ishares.com/de/privatanleger/de/pr...                    csv  \n",
       "13  https://www.ishares.com/de/privatanleger/de/pr...                    csv  \n",
       "14  https://www.ishares.com/de/privatanleger/de/pr...                    csv  \n",
       "15  https://www.ishares.com/de/privatanleger/de/pr...                    csv  \n",
       "16  https://www.ishares.com/de/privatanleger/de/pr...                    csv  "
      ]
     },
     "execution_count": 2,
     "metadata": {},
     "output_type": "execute_result"
    }
   ],
   "source": [
    "# Read config table for (ISIN / Provider) mapping\n",
    "config = pd.read_excel(config_file, sheet_name = \"ETF_Overview\", header = 1)\n",
    "\n",
    "# Select releavant columns\n",
    "config = config[['Security_ISIN', 'Fund_Company', 'Type', 'URL_Positions', 'URL_Positions_FileType']]\n",
    "\n",
    "# Drop rows with incomplete scraping information\n",
    "config = config.dropna(subset = ['URL_Positions', 'URL_Positions_FileType'])\n",
    "\n",
    "config.head()"
   ]
  },
  {
   "cell_type": "code",
   "execution_count": 3,
   "metadata": {},
   "outputs": [
    {
     "name": "stdout",
     "output_type": "stream",
     "text": [
      "Connected.\n"
     ]
    }
   ],
   "source": [
    "# Connect to AWS S3 storage\n",
    "s3 = Tools.S3()\n",
    "s3.connect(AWS_ACCESS_KEY_ID, AWS_SECRET_ACCESS_KEY)"
   ]
  },
  {
   "cell_type": "code",
   "execution_count": 7,
   "metadata": {},
   "outputs": [
    {
     "data": {
      "application/vnd.jupyter.widget-view+json": {
       "model_id": "724301ea9aa64d5fbc38a75aa2e8c08d",
       "version_major": 2,
       "version_minor": 0
      },
      "text/plain": [
       "  0%|          | 0/277 [00:00<?, ?it/s]"
      ]
     },
     "metadata": {},
     "output_type": "display_data"
    }
   ],
   "source": [
    "# Download data from brokers and store on S3\n",
    "\n",
    "date = datetime.now().strftime('%Y_%m_%d')\n",
    "\n",
    "for i, record in tqdm(config.iterrows(), total = config.shape[0]):\n",
    "\n",
    "    isin, url, file_suffix = record[['Security_ISIN', 'URL_Positions', 'URL_Positions_FileType']]\n",
    "\n",
    "    # File name -> date defines folder structure\n",
    "    filename = 'data/position_raw/' + date + \"/\" + isin + \".\" + file_suffix\n",
    "\n",
    "    # Download file to s3 storage\n",
    "    http = urllib3.PoolManager()\n",
    "    s3.client.upload_fileobj(\n",
    "        http.request('GET', url, preload_content = False), \n",
    "        \"pomato\", \n",
    "        filename\n",
    "    )\n",
    "\n",
    "    # Slowdown process to not get blocked\n",
    "    time_to_sleep = random.choices(range(1,6), k = 1, weights = [i for i in reversed(range(1, 6))])\n",
    "    time.sleep(time_to_sleep[0])"
   ]
  },
  {
   "cell_type": "code",
   "execution_count": 8,
   "metadata": {},
   "outputs": [
    {
     "data": {
      "application/vnd.jupyter.widget-view+json": {
       "model_id": "b13afc47d07346b8bb57bc19104436a9",
       "version_major": 2,
       "version_minor": 0
      },
      "text/plain": [
       "  0%|          | 0/278 [00:00<?, ?it/s]"
      ]
     },
     "metadata": {},
     "output_type": "display_data"
    },
    {
     "name": "stdout",
     "output_type": "stream",
     "text": [
      "Error - LU0455009935\n",
      "Error - LU0455009851\n",
      "Error - LU0455008887\n",
      "Error - LU0455009182\n",
      "Error - LU0514695856\n",
      "Error - LU0476289896\n",
      "Error - LU0659580236\n",
      "Error - LU0514694537\n",
      "Error - LU0592215668\n",
      "Error - LU0455009265\n",
      "Error - LU0755279428\n",
      "Error - LU0514694966\n",
      "Error - LU0975326215\n",
      "Error - LU0975334821\n",
      "Error - LU1409136006\n",
      "Error - LU0962081203\n",
      "Error - LU0356591882\n",
      "Error - LU1574142243\n",
      "Error - IE00BYPLS672\n",
      "Error - IE00BYPLS672\n"
     ]
    }
   ],
   "source": [
    "# Download data from S3, transform and upload transformed version\n",
    "\n",
    "date = datetime.now().strftime('%Y_%m_%d')\n",
    "\n",
    "# Get list of avilable files -> do not know yet, if all uploads were successful\n",
    "file_list = s3.listFiles(AWS_BUCKET, \"data/position_raw/\" + date)\n",
    "\n",
    "# Subset config file to available data\n",
    "df_file = pd.DataFrame(file_list, columns = ['key_raw'])\n",
    "df_file['Security_ISIN'] = df_file['key_raw'].str.extract(r\"([A-Z0-9]{12})\", expand = False).fillna('no match')\n",
    "config = config.join(df_file.set_index(['Security_ISIN']), on = 'Security_ISIN', how = 'inner')\n",
    "\n",
    "# Read mapping table - required for (symbol, exchange) to (isin) mapping. iShares special case\n",
    "map_isin_symbol = s3.downloadFile(\n",
    "        AWS_BUCKET, \n",
    "        'config/mapping/map_cs_isin_sym.tsv', \n",
    "        './temp/' + 'map_cs_isin_sym.tsv'\n",
    "    )\n",
    "\n",
    "map_isin_symbol = pd.read_csv('./temp/map_cs_isin_sym.tsv', sep = \"\\t\")\n",
    "map_isin_symbol = map_isin_symbol[['ISIN', 'Symbol', 'Exchange']].rename(columns = {'Symbol': 'TICKER', 'Exchange': 'EXCHANGE'})\n",
    "\n",
    "# Download raw files, extract information and clean\n",
    "for i, record in tqdm(config.iterrows(), total = config.shape[0]):\n",
    "\n",
    "    key, isin, fund_company, file_suffix = record[['key_raw', 'Security_ISIN', 'Fund_Company', 'URL_Positions_FileType']]\n",
    "\n",
    "    filename = isin + '.' + file_suffix\n",
    "\n",
    "    s3.downloadFile(AWS_BUCKET, key, './temp/' + filename)\n",
    "\n",
    "    # Read file and harmonize column names\n",
    "    try:\n",
    "        fund_requests, data = readData_ETF(fund_company, './temp/', filename, isin)\n",
    "    except:\n",
    "        print(\"Error - \" + isin)\n",
    "\n",
    "    # In 2021, iShares dropped the ISIN column. New key: (TICKER, EXCHANGE)\n",
    "    if not ('ISIN' in data.columns.to_list()):\n",
    "        \n",
    "        data = data.join(map_isin_symbol.set_index(['TICKER', 'EXCHANGE']), on = ['TICKER', 'EXCHANGE'])\n",
    "\n",
    "    # Clean data (e.g. aggregate over duplicates, unknown securities; harmonize 'TICKER', 'NAME', 'SECTOR', 'EXCHANGE', 'COUNTRY', 'CCY')\n",
    "    # data = cleanData_ETF(data)\n",
    "  \n",
    "    # Adjust WEIGHTS to 1 - they can be 100 % / 1 / 0\n",
    "    # data['WEIGHT'] = data['WEIGHT'] / data['WEIGHT'].sum()\n",
    "\n",
    "    # Upload to S3\n",
    "    Tools.uploadFileS3(s3, data, isin, \"data/position_trans/\" + date + \"/\", AWS_BUCKET) \n"
   ]
  },
  {
   "cell_type": "code",
   "execution_count": null,
   "metadata": {},
   "outputs": [],
   "source": []
  }
 ],
 "metadata": {
  "interpreter": {
   "hash": "869cfd7152767b6c01cc3b1a533d38f34d102a29f7c510c98fad66d349226c64"
  },
  "kernelspec": {
   "display_name": "Python 3.8.10 64-bit",
   "name": "python3"
  },
  "language_info": {
   "codemirror_mode": {
    "name": "ipython",
    "version": 3
   },
   "file_extension": ".py",
   "mimetype": "text/x-python",
   "name": "python",
   "nbconvert_exporter": "python",
   "pygments_lexer": "ipython3",
   "version": "3.8.10"
  },
  "orig_nbformat": 4
 },
 "nbformat": 4,
 "nbformat_minor": 2
}
