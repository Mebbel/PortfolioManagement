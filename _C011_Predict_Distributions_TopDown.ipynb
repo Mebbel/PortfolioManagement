{
 "cells": [
  {
   "cell_type": "markdown",
   "metadata": {},
   "source": [
    "# Predict Distributions - TopDown\n",
    "\n",
    "Predict timing and size of distributions of ETFs\n",
    "\n",
    "Apply a TopDown approach with using time-series models on fund level\n",
    "\n"
   ]
  },
  {
   "cell_type": "code",
   "execution_count": null,
   "metadata": {},
   "outputs": [],
   "source": [
    "asdfasdf"
   ]
  }
 ],
 "metadata": {
  "language_info": {
   "name": "python"
  },
  "orig_nbformat": 4
 },
 "nbformat": 4,
 "nbformat_minor": 2
}
