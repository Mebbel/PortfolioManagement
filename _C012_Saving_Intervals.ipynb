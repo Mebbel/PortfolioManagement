{
 "cells": [
  {
   "cell_type": "markdown",
   "metadata": {},
   "source": [
    "# Saving intervals\n",
    "\n",
    "* Find optimal saving intervals: Monthly vs biweekly vs weekly\n",
    "* Check for ideal days of the week / month: \n",
    "    * If monthly: better to save at beginning, middle or end\n",
    "    * If weekly, better to save at beginning, middle or end of the week\n",
    "\n",
    "    "
   ]
  },
  {
   "cell_type": "code",
   "execution_count": 101,
   "metadata": {},
   "outputs": [],
   "source": [
    "# General\n",
    "import pandas as pd\n",
    "import numpy as np\n",
    "from datetime import datetime, timedelta\n",
    "from dateutil.relativedelta import relativedelta\n",
    "import re\n",
    "\n",
    "# File download\n",
    "from tqdm.notebook import tqdm, trange\n",
    "\n",
    "# Custom modules\n",
    "from Tools import S3\n",
    "\n",
    "# Graphics\n",
    "import seaborn as sns\n",
    "import matplotlib.pyplot as plt\n",
    "\n",
    "# Hidden configurations\n",
    "from mySecrets import config_file, AWS_ACCESS_KEY_ID, AWS_SECRET_ACCESS_KEY, AWS_BUCKET"
   ]
  },
  {
   "cell_type": "code",
   "execution_count": 2,
   "metadata": {},
   "outputs": [
    {
     "name": "stdout",
     "output_type": "stream",
     "text": [
      "Connected.\n"
     ]
    }
   ],
   "source": [
    "# Connect to AWS S3 storage\n",
    "s3 = S3()\n",
    "s3.connect(AWS_ACCESS_KEY_ID, AWS_SECRET_ACCESS_KEY)"
   ]
  },
  {
   "cell_type": "code",
   "execution_count": 3,
   "metadata": {},
   "outputs": [],
   "source": [
    "# Get mapping data\n",
    "\n",
    "# ETF Info - ISIN + Name + Description\n",
    "etf_info = s3.readFile(BUCKET_NAME=AWS_BUCKET, key=\"config/mapping/etf_info.tsv\")\n",
    "\n",
    "# ETF Info - ISIN to Symbol for Prices\n",
    "etf_isin_symbol = s3.readFile(BUCKET_NAME=AWS_BUCKET, key=\"config/mapping/etf_isin_symbol.tsv\")"
   ]
  },
  {
   "cell_type": "markdown",
   "metadata": {},
   "source": [
    "# Inspect for single-ETF portfolio"
   ]
  },
  {
   "cell_type": "code",
   "execution_count": 5,
   "metadata": {},
   "outputs": [
    {
     "data": {
      "text/html": [
       "<div>\n",
       "<style scoped>\n",
       "    .dataframe tbody tr th:only-of-type {\n",
       "        vertical-align: middle;\n",
       "    }\n",
       "\n",
       "    .dataframe tbody tr th {\n",
       "        vertical-align: top;\n",
       "    }\n",
       "\n",
       "    .dataframe thead th {\n",
       "        text-align: right;\n",
       "    }\n",
       "</style>\n",
       "<table border=\"1\" class=\"dataframe\">\n",
       "  <thead>\n",
       "    <tr style=\"text-align: right;\">\n",
       "      <th></th>\n",
       "      <th>Security_ISIN</th>\n",
       "      <th>Weight</th>\n",
       "      <th>Security_Name</th>\n",
       "      <th>Security_Class</th>\n",
       "      <th>Fund_Company</th>\n",
       "      <th>Domicile</th>\n",
       "      <th>Type</th>\n",
       "      <th>Acc_Dist</th>\n",
       "      <th>Base_CCY</th>\n",
       "    </tr>\n",
       "  </thead>\n",
       "  <tbody>\n",
       "    <tr>\n",
       "      <th>0</th>\n",
       "      <td>IE00B4L5Y983</td>\n",
       "      <td>1</td>\n",
       "      <td>iShares Core MSCI World UCITS ETF</td>\n",
       "      <td>ETF</td>\n",
       "      <td>iShares</td>\n",
       "      <td>Irland</td>\n",
       "      <td>Aktien</td>\n",
       "      <td>Acc</td>\n",
       "      <td>USD</td>\n",
       "    </tr>\n",
       "  </tbody>\n",
       "</table>\n",
       "</div>"
      ],
      "text/plain": [
       "  Security_ISIN  Weight                      Security_Name Security_Class  \\\n",
       "0  IE00B4L5Y983       1  iShares Core MSCI World UCITS ETF            ETF   \n",
       "\n",
       "  Fund_Company Domicile    Type Acc_Dist Base_CCY  \n",
       "0      iShares   Irland  Aktien      Acc      USD  "
      ]
     },
     "execution_count": 5,
     "metadata": {},
     "output_type": "execute_result"
    }
   ],
   "source": [
    "# Portfolio selection\n",
    "portfolio = [\n",
    "\n",
    "['IE00B4L5Y983', 1],\t# iShares Core MSCI World UCITS ETF\n",
    "\n",
    "]\n",
    "\n",
    "df_pf = pd.DataFrame(portfolio, columns=['Security_ISIN', 'Weight'])\n",
    "\n",
    "# Add more information\n",
    "df_pf = df_pf.join(etf_info.set_index('Security_ISIN'), on=['Security_ISIN'])\n",
    "\n",
    "df_pf.head()"
   ]
  },
  {
   "cell_type": "code",
   "execution_count": 6,
   "metadata": {},
   "outputs": [
    {
     "data": {
      "text/html": [
       "<div>\n",
       "<style scoped>\n",
       "    .dataframe tbody tr th:only-of-type {\n",
       "        vertical-align: middle;\n",
       "    }\n",
       "\n",
       "    .dataframe tbody tr th {\n",
       "        vertical-align: top;\n",
       "    }\n",
       "\n",
       "    .dataframe thead th {\n",
       "        text-align: right;\n",
       "    }\n",
       "</style>\n",
       "<table border=\"1\" class=\"dataframe\">\n",
       "  <thead>\n",
       "    <tr style=\"text-align: right;\">\n",
       "      <th></th>\n",
       "      <th>Security_ISIN</th>\n",
       "      <th>Weight</th>\n",
       "      <th>Symbol</th>\n",
       "    </tr>\n",
       "  </thead>\n",
       "  <tbody>\n",
       "    <tr>\n",
       "      <th>0</th>\n",
       "      <td>IE00B4L5Y983</td>\n",
       "      <td>1</td>\n",
       "      <td>EUNL.DE</td>\n",
       "    </tr>\n",
       "  </tbody>\n",
       "</table>\n",
       "</div>"
      ],
      "text/plain": [
       "  Security_ISIN  Weight   Symbol\n",
       "0  IE00B4L5Y983       1  EUNL.DE"
      ]
     },
     "execution_count": 6,
     "metadata": {},
     "output_type": "execute_result"
    }
   ],
   "source": [
    "# Get symbols for each security\n",
    "df_prices = df_pf.join(etf_isin_symbol.set_index('Security_ISIN'), on='Security_ISIN')\n",
    "df_prices = df_prices[['Security_ISIN', 'Weight', 'Sym_YahooFin']].rename(columns={'Sym_YahooFin':'Symbol'})\n",
    "df_prices"
   ]
  },
  {
   "cell_type": "code",
   "execution_count": 34,
   "metadata": {},
   "outputs": [
    {
     "data": {
      "text/html": [
       "<div>\n",
       "<style scoped>\n",
       "    .dataframe tbody tr th:only-of-type {\n",
       "        vertical-align: middle;\n",
       "    }\n",
       "\n",
       "    .dataframe tbody tr th {\n",
       "        vertical-align: top;\n",
       "    }\n",
       "\n",
       "    .dataframe thead th {\n",
       "        text-align: right;\n",
       "    }\n",
       "</style>\n",
       "<table border=\"1\" class=\"dataframe\">\n",
       "  <thead>\n",
       "    <tr style=\"text-align: right;\">\n",
       "      <th></th>\n",
       "      <th>Symbol</th>\n",
       "      <th>Date</th>\n",
       "      <th>Open</th>\n",
       "      <th>High</th>\n",
       "      <th>Low</th>\n",
       "      <th>Close</th>\n",
       "      <th>Volume</th>\n",
       "    </tr>\n",
       "  </thead>\n",
       "  <tbody>\n",
       "    <tr>\n",
       "      <th>0</th>\n",
       "      <td>EUNL.DE</td>\n",
       "      <td>2014-01-02</td>\n",
       "      <td>28.650000</td>\n",
       "      <td>28.750000</td>\n",
       "      <td>28.559999</td>\n",
       "      <td>28.559999</td>\n",
       "      <td>8395.0</td>\n",
       "    </tr>\n",
       "    <tr>\n",
       "      <th>1</th>\n",
       "      <td>EUNL.DE</td>\n",
       "      <td>2014-01-03</td>\n",
       "      <td>28.620001</td>\n",
       "      <td>28.730000</td>\n",
       "      <td>28.620001</td>\n",
       "      <td>28.639999</td>\n",
       "      <td>57173.0</td>\n",
       "    </tr>\n",
       "    <tr>\n",
       "      <th>2</th>\n",
       "      <td>EUNL.DE</td>\n",
       "      <td>2014-01-06</td>\n",
       "      <td>28.690001</td>\n",
       "      <td>28.709999</td>\n",
       "      <td>28.480000</td>\n",
       "      <td>28.480000</td>\n",
       "      <td>2883.0</td>\n",
       "    </tr>\n",
       "    <tr>\n",
       "      <th>3</th>\n",
       "      <td>EUNL.DE</td>\n",
       "      <td>2014-01-07</td>\n",
       "      <td>28.620001</td>\n",
       "      <td>28.790001</td>\n",
       "      <td>28.620001</td>\n",
       "      <td>28.730000</td>\n",
       "      <td>17665.0</td>\n",
       "    </tr>\n",
       "    <tr>\n",
       "      <th>4</th>\n",
       "      <td>EUNL.DE</td>\n",
       "      <td>2014-01-08</td>\n",
       "      <td>28.770000</td>\n",
       "      <td>28.780001</td>\n",
       "      <td>28.730000</td>\n",
       "      <td>28.770000</td>\n",
       "      <td>32029.0</td>\n",
       "    </tr>\n",
       "  </tbody>\n",
       "</table>\n",
       "</div>"
      ],
      "text/plain": [
       "    Symbol        Date       Open       High        Low      Close   Volume\n",
       "0  EUNL.DE  2014-01-02  28.650000  28.750000  28.559999  28.559999   8395.0\n",
       "1  EUNL.DE  2014-01-03  28.620001  28.730000  28.620001  28.639999  57173.0\n",
       "2  EUNL.DE  2014-01-06  28.690001  28.709999  28.480000  28.480000   2883.0\n",
       "3  EUNL.DE  2014-01-07  28.620001  28.790001  28.620001  28.730000  17665.0\n",
       "4  EUNL.DE  2014-01-08  28.770000  28.780001  28.730000  28.770000  32029.0"
      ]
     },
     "execution_count": 34,
     "metadata": {},
     "output_type": "execute_result"
    }
   ],
   "source": [
    "# Collect all price information for the portfolio\n",
    "\n",
    "date_prices = \"2022_04_15\"\n",
    "\n",
    "file_list = [\"{dir}/{date}/{file}.tsv\".format(**{'dir': 'data/price_raw', 'date': date_prices, 'file': sym}) for sym in df_prices.Symbol]\n",
    "\n",
    "prices = pd.DataFrame(columns = ['Symbol', 'Date', 'Open', 'High', 'Low', 'Close', 'Volume'])\n",
    "\n",
    "for key in file_list:\n",
    "\n",
    "    data = s3.readFile(AWS_BUCKET, key, sep = \"\\t\")  \n",
    "\n",
    "    # Subset columns\n",
    "    cols = ['Date', 'Symbol', 'Open', 'High', 'Low', 'Close', 'Volume']\n",
    "    data = data[[i for i in cols if i in data.columns]]\n",
    "\n",
    "    # Append \n",
    "    prices = prices.append(data)\n",
    "\n",
    "# Store in data format readable by both Python and R\n",
    "prices = prices.reset_index().drop(['index'], axis = 1)\n",
    "\n",
    "prices.head()"
   ]
  },
  {
   "cell_type": "code",
   "execution_count": 35,
   "metadata": {},
   "outputs": [],
   "source": [
    "prices['Date'] = pd.to_datetime(prices['Date'])\n",
    "prices = prices.set_index('Date')"
   ]
  },
  {
   "cell_type": "code",
   "execution_count": 46,
   "metadata": {},
   "outputs": [],
   "source": [
    "# Fill missing values\n",
    "prices = prices.resample('1D').ffill()"
   ]
  },
  {
   "cell_type": "markdown",
   "metadata": {},
   "source": [
    "## Monthly"
   ]
  },
  {
   "cell_type": "code",
   "execution_count": 61,
   "metadata": {},
   "outputs": [
    {
     "data": {
      "text/html": [
       "<div>\n",
       "<style scoped>\n",
       "    .dataframe tbody tr th:only-of-type {\n",
       "        vertical-align: middle;\n",
       "    }\n",
       "\n",
       "    .dataframe tbody tr th {\n",
       "        vertical-align: top;\n",
       "    }\n",
       "\n",
       "    .dataframe thead th {\n",
       "        text-align: right;\n",
       "    }\n",
       "</style>\n",
       "<table border=\"1\" class=\"dataframe\">\n",
       "  <thead>\n",
       "    <tr style=\"text-align: right;\">\n",
       "      <th></th>\n",
       "      <th>Date</th>\n",
       "      <th>Symbol</th>\n",
       "      <th>Open</th>\n",
       "      <th>High</th>\n",
       "      <th>Low</th>\n",
       "      <th>Close</th>\n",
       "      <th>Volume</th>\n",
       "      <th>Price</th>\n",
       "      <th>N</th>\n",
       "      <th>N_cum</th>\n",
       "      <th>Value</th>\n",
       "    </tr>\n",
       "  </thead>\n",
       "  <tbody>\n",
       "    <tr>\n",
       "      <th>0</th>\n",
       "      <td>2014-02-01</td>\n",
       "      <td>EUNL.DE</td>\n",
       "      <td>28.059999</td>\n",
       "      <td>28.059999</td>\n",
       "      <td>27.820000</td>\n",
       "      <td>28.059999</td>\n",
       "      <td>16621.0</td>\n",
       "      <td>27.940000</td>\n",
       "      <td>35.790981</td>\n",
       "      <td>35.790981</td>\n",
       "      <td>1004.294914</td>\n",
       "    </tr>\n",
       "    <tr>\n",
       "      <th>1</th>\n",
       "      <td>2014-03-01</td>\n",
       "      <td>EUNL.DE</td>\n",
       "      <td>28.940001</td>\n",
       "      <td>28.940001</td>\n",
       "      <td>28.730000</td>\n",
       "      <td>28.920000</td>\n",
       "      <td>15369.0</td>\n",
       "      <td>28.835000</td>\n",
       "      <td>34.680076</td>\n",
       "      <td>70.471057</td>\n",
       "      <td>2038.022987</td>\n",
       "    </tr>\n",
       "    <tr>\n",
       "      <th>2</th>\n",
       "      <td>2014-04-01</td>\n",
       "      <td>EUNL.DE</td>\n",
       "      <td>29.010000</td>\n",
       "      <td>29.090000</td>\n",
       "      <td>28.940001</td>\n",
       "      <td>29.030001</td>\n",
       "      <td>2454.0</td>\n",
       "      <td>29.015000</td>\n",
       "      <td>34.464932</td>\n",
       "      <td>104.935989</td>\n",
       "      <td>3046.291832</td>\n",
       "    </tr>\n",
       "    <tr>\n",
       "      <th>3</th>\n",
       "      <td>2014-05-01</td>\n",
       "      <td>EUNL.DE</td>\n",
       "      <td>29.070000</td>\n",
       "      <td>29.070000</td>\n",
       "      <td>28.969999</td>\n",
       "      <td>29.020000</td>\n",
       "      <td>25169.0</td>\n",
       "      <td>29.020000</td>\n",
       "      <td>34.458994</td>\n",
       "      <td>139.394983</td>\n",
       "      <td>4045.242481</td>\n",
       "    </tr>\n",
       "    <tr>\n",
       "      <th>4</th>\n",
       "      <td>2014-06-01</td>\n",
       "      <td>EUNL.DE</td>\n",
       "      <td>30.150000</td>\n",
       "      <td>30.150000</td>\n",
       "      <td>30.100000</td>\n",
       "      <td>30.100000</td>\n",
       "      <td>3819.0</td>\n",
       "      <td>30.125000</td>\n",
       "      <td>33.195021</td>\n",
       "      <td>172.590004</td>\n",
       "      <td>5194.959190</td>\n",
       "    </tr>\n",
       "    <tr>\n",
       "      <th>...</th>\n",
       "      <td>...</td>\n",
       "      <td>...</td>\n",
       "      <td>...</td>\n",
       "      <td>...</td>\n",
       "      <td>...</td>\n",
       "      <td>...</td>\n",
       "      <td>...</td>\n",
       "      <td>...</td>\n",
       "      <td>...</td>\n",
       "      <td>...</td>\n",
       "      <td>...</td>\n",
       "    </tr>\n",
       "    <tr>\n",
       "      <th>90</th>\n",
       "      <td>2021-08-01</td>\n",
       "      <td>EUNL.DE</td>\n",
       "      <td>70.874001</td>\n",
       "      <td>71.375999</td>\n",
       "      <td>70.783997</td>\n",
       "      <td>71.216003</td>\n",
       "      <td>381670.0</td>\n",
       "      <td>71.079998</td>\n",
       "      <td>14.068655</td>\n",
       "      <td>2120.351773</td>\n",
       "      <td>151002.979147</td>\n",
       "    </tr>\n",
       "    <tr>\n",
       "      <th>91</th>\n",
       "      <td>2021-09-01</td>\n",
       "      <td>EUNL.DE</td>\n",
       "      <td>73.636002</td>\n",
       "      <td>73.713997</td>\n",
       "      <td>73.239998</td>\n",
       "      <td>73.334000</td>\n",
       "      <td>688671.0</td>\n",
       "      <td>73.476997</td>\n",
       "      <td>13.609701</td>\n",
       "      <td>2133.961475</td>\n",
       "      <td>156491.930022</td>\n",
       "    </tr>\n",
       "    <tr>\n",
       "      <th>92</th>\n",
       "      <td>2021-10-01</td>\n",
       "      <td>EUNL.DE</td>\n",
       "      <td>70.797997</td>\n",
       "      <td>71.655998</td>\n",
       "      <td>70.681999</td>\n",
       "      <td>71.566002</td>\n",
       "      <td>966811.0</td>\n",
       "      <td>71.168999</td>\n",
       "      <td>14.051062</td>\n",
       "      <td>2148.012537</td>\n",
       "      <td>153724.669270</td>\n",
       "    </tr>\n",
       "    <tr>\n",
       "      <th>93</th>\n",
       "      <td>2021-11-01</td>\n",
       "      <td>EUNL.DE</td>\n",
       "      <td>76.029999</td>\n",
       "      <td>76.194000</td>\n",
       "      <td>75.750000</td>\n",
       "      <td>75.888000</td>\n",
       "      <td>728295.0</td>\n",
       "      <td>75.972000</td>\n",
       "      <td>13.162744</td>\n",
       "      <td>2161.175281</td>\n",
       "      <td>164007.270773</td>\n",
       "    </tr>\n",
       "    <tr>\n",
       "      <th>94</th>\n",
       "      <td>2021-12-01</td>\n",
       "      <td>EUNL.DE</td>\n",
       "      <td>76.332001</td>\n",
       "      <td>77.101997</td>\n",
       "      <td>76.300003</td>\n",
       "      <td>76.973999</td>\n",
       "      <td>1082018.0</td>\n",
       "      <td>76.701000</td>\n",
       "      <td>13.037640</td>\n",
       "      <td>2174.212921</td>\n",
       "      <td>167357.863222</td>\n",
       "    </tr>\n",
       "  </tbody>\n",
       "</table>\n",
       "<p>95 rows × 11 columns</p>\n",
       "</div>"
      ],
      "text/plain": [
       "         Date   Symbol       Open       High        Low      Close     Volume  \\\n",
       "0  2014-02-01  EUNL.DE  28.059999  28.059999  27.820000  28.059999    16621.0   \n",
       "1  2014-03-01  EUNL.DE  28.940001  28.940001  28.730000  28.920000    15369.0   \n",
       "2  2014-04-01  EUNL.DE  29.010000  29.090000  28.940001  29.030001     2454.0   \n",
       "3  2014-05-01  EUNL.DE  29.070000  29.070000  28.969999  29.020000    25169.0   \n",
       "4  2014-06-01  EUNL.DE  30.150000  30.150000  30.100000  30.100000     3819.0   \n",
       "..        ...      ...        ...        ...        ...        ...        ...   \n",
       "90 2021-08-01  EUNL.DE  70.874001  71.375999  70.783997  71.216003   381670.0   \n",
       "91 2021-09-01  EUNL.DE  73.636002  73.713997  73.239998  73.334000   688671.0   \n",
       "92 2021-10-01  EUNL.DE  70.797997  71.655998  70.681999  71.566002   966811.0   \n",
       "93 2021-11-01  EUNL.DE  76.029999  76.194000  75.750000  75.888000   728295.0   \n",
       "94 2021-12-01  EUNL.DE  76.332001  77.101997  76.300003  76.973999  1082018.0   \n",
       "\n",
       "        Price          N        N_cum          Value  \n",
       "0   27.940000  35.790981    35.790981    1004.294914  \n",
       "1   28.835000  34.680076    70.471057    2038.022987  \n",
       "2   29.015000  34.464932   104.935989    3046.291832  \n",
       "3   29.020000  34.458994   139.394983    4045.242481  \n",
       "4   30.125000  33.195021   172.590004    5194.959190  \n",
       "..        ...        ...          ...            ...  \n",
       "90  71.079998  14.068655  2120.351773  151002.979147  \n",
       "91  73.476997  13.609701  2133.961475  156491.930022  \n",
       "92  71.168999  14.051062  2148.012537  153724.669270  \n",
       "93  75.972000  13.162744  2161.175281  164007.270773  \n",
       "94  76.701000  13.037640  2174.212921  167357.863222  \n",
       "\n",
       "[95 rows x 11 columns]"
      ]
     },
     "execution_count": 61,
     "metadata": {},
     "output_type": "execute_result"
    }
   ],
   "source": [
    "# Inspect monthly savings plan\n",
    "# Invest on the first of every month\n",
    "\n",
    "amount = 1000\n",
    "day_of_month_start = 1\n",
    "\n",
    "# Days when savings plan gets executed\n",
    "df_savings = pd.DataFrame(pd.date_range('2014-02-01','2022-01-01' , freq='1M') - pd.offsets.MonthBegin(1) + timedelta(days=day_of_month_start - 1), columns=['Date'])\n",
    "\n",
    "# Add prices per day\n",
    "df_savings = df_savings.join(prices, on='Date')\n",
    "\n",
    "# Calculate buying price: (high - low)\n",
    "df_savings['Price'] = (df_savings['High'] + df_savings['Low']) / 2\n",
    "\n",
    "# TODO: Transaction costs!!!!\n",
    "\n",
    "# Calculate number of shares bought each day\n",
    "df_savings['N'] = amount / df_savings['Price']\n",
    "\n",
    "# Cumulative number of shares\n",
    "df_savings['N_cum'] = df_savings.N.cumsum()\n",
    "\n",
    "# Cumulative value of portfolio\n",
    "df_savings['Value'] = df_savings['N_cum'] * df_savings['Close']\n",
    "\n",
    "df_savings\n"
   ]
  },
  {
   "cell_type": "code",
   "execution_count": 93,
   "metadata": {},
   "outputs": [],
   "source": [
    "# Compare value to keeping the money at: 0% / 1% / 2% / 5% / 10% / 15%/... interest\n",
    "\n",
    "\n",
    "N = df_savings.shape[0]\n",
    "\n",
    "# Nachschüssig\n",
    "i = 0.01/12\n",
    "df_savings['Value_0_perc'] = [amount * (((1 + i)**(n+1) - 1) / i) for n in range(N)]\n",
    "\n",
    "i = 0.05/12\n",
    "df_savings['Value_5_perc'] = [amount * (((1 + i)**(n+1) - 1) / i) for n in range(N)]\n",
    "\n",
    "i = 0.10/12\n",
    "df_savings['Value_10_perc'] = [amount * (((1 + i)**(n+1) - 1) / i) for n in range(N)]\n",
    "\n",
    "# Vorschüssig\n",
    "# amount * (((1 + i)**n - 1) / i) * (1+i)\n",
    "\n",
    "\n"
   ]
  },
  {
   "cell_type": "code",
   "execution_count": 94,
   "metadata": {},
   "outputs": [
    {
     "data": {
      "text/plain": [
       "<AxesSubplot:xlabel='Date', ylabel='Value'>"
      ]
     },
     "execution_count": 94,
     "metadata": {},
     "output_type": "execute_result"
    },
    {
     "data": {
      "image/png": "[encoded data removed]",
      "text/plain": [
       "<Figure size 720x576 with 1 Axes>"
      ]
     },
     "metadata": {
      "needs_background": "light"
     },
     "output_type": "display_data"
    }
   ],
   "source": [
    "fig = plt.figure(figsize=(10,8))\n",
    "# Value\n",
    "sns.lineplot(data=df_savings,x='Date', y='Value')\n",
    "# Benchmark\n",
    "sns.lineplot(data=df_savings,x='Date', y='Value_0_perc', color='red')\n",
    "sns.lineplot(data=df_savings,x='Date', y='Value_5_perc', color='red')\n",
    "sns.lineplot(data=df_savings,x='Date', y='Value_10_perc', color='red')"
   ]
  },
  {
   "cell_type": "markdown",
   "metadata": {},
   "source": [
    "## Metric for comparision over different time horizones"
   ]
  },
  {
   "cell_type": "code",
   "execution_count": 129,
   "metadata": {},
   "outputs": [],
   "source": [
    "# Calculate relative return - in total / per year / per day\n",
    "from pyxirr import xirr\n",
    "# val = df_savings['Value']\n",
    "# (val[len(val)-1] / val[0]) ** (1 / (len(val))) - 1\n",
    "\n",
    "# IRR - invest only and sell everything at once at the end\n",
    "val = df_savings['Value']\n",
    "val_fin = val[len(val) - 1]\n",
    "\n",
    "cf = [-amount] * len(val)\n",
    "cf[len(cf)-1] += val_fin\n",
    "\n",
    "irr = xirr(df_savings.Date, cf)\n"
   ]
  },
  {
   "cell_type": "code",
   "execution_count": 133,
   "metadata": {},
   "outputs": [
    {
     "data": {
      "text/plain": [
       "<AxesSubplot:xlabel='Date', ylabel='Value'>"
      ]
     },
     "execution_count": 133,
     "metadata": {},
     "output_type": "execute_result"
    },
    {
     "data": {
      "image/png": "[encoded data removed]",
      "text/plain": [
       "<Figure size 720x576 with 1 Axes>"
      ]
     },
     "metadata": {
      "needs_background": "light"
     },
     "output_type": "display_data"
    }
   ],
   "source": [
    "# Check plausibility of IRR calculations\n",
    "i = (1 + irr) ** (1/12) - 1 \n",
    "df_savings['Value_irr_perc'] = [amount * (((1 + i)**(n+1) - 1) / i) for n in range(N)]\n",
    "\n",
    "fig = plt.figure(figsize=(10,8))\n",
    "# Value\n",
    "sns.lineplot(data=df_savings,x='Date', y='Value')\n",
    "# Benchmark\n",
    "sns.lineplot(data=df_savings,x='Date', y='Value_irr_perc', color='red')\n"
   ]
  },
  {
   "cell_type": "markdown",
   "metadata": {},
   "source": [
    "## Vary day of month"
   ]
  },
  {
   "cell_type": "code",
   "execution_count": 217,
   "metadata": {},
   "outputs": [],
   "source": [
    "# Set the parameters for the simulation\n",
    "\n",
    "amount = 1000 # Amount saved per month\n",
    "# amount_inc_pa = 1% # Increase of amount saved per month every year\n",
    "\n",
    "day_of_month_start = [*range(1,29)] # Day of month when savings plan is executed\n",
    "number_of_years = 5 # Number of years in simulation\n",
    "\n",
    "n_windows = 20 # Number of timeshifts\n",
    "\n",
    "month_start = datetime(2014, 2, 1)\n",
    "\n",
    "\n",
    "# Collect IRR\n",
    "irr_coll_m = {i: [] for i in day_of_month_start}\n",
    "\n",
    "for i in range(n_windows):\n",
    "    month_start_i = month_start + relativedelta(months=i)\n",
    "    month_end = month_start_i +  relativedelta(years=number_of_years)\n",
    "\n",
    "    for day_of_month in day_of_month_start:\n",
    "\n",
    "        # Days when savings plan gets executed\n",
    "        df_savings = pd.DataFrame(pd.date_range(month_start, month_end, freq='1M') - pd.offsets.MonthBegin(1) + timedelta(days=day_of_month - 1), columns=['Date'])\n",
    "\n",
    "        # Add prices per day\n",
    "        df_savings = df_savings.join(prices, on='Date')\n",
    "\n",
    "        # Calculate buying price: (high - low)\n",
    "        df_savings['Price'] = (df_savings['High'] + df_savings['Low']) / 2\n",
    "\n",
    "        # TODO: Transaction costs!!!!\n",
    "\n",
    "        # Calculate number of shares bought each day\n",
    "        df_savings['N'] = amount / df_savings['Price']\n",
    "\n",
    "        # Cumulative number of shares\n",
    "        df_savings['N_cum'] = df_savings.N.cumsum()\n",
    "\n",
    "        # Cumulative value of portfolio\n",
    "        df_savings['Value'] = df_savings['N_cum'] * df_savings['Close']\n",
    "\n",
    "        # Calculate IRR\n",
    "        N = df_savings.shape[0]\n",
    "        val = df_savings.loc[N-1, 'Value']\n",
    "\n",
    "        cf = [-amount] * N\n",
    "        cf[len(cf)-1] += val\n",
    "\n",
    "        irr = xirr(df_savings.Date, cf)\n",
    "        # irr_coll[day_of_month] = [irr_coll[day_of_month], irr]\n",
    "        irr_coll_m.setdefault(day_of_month,[]).append(irr)\n",
    "        # irr_coll.update({day_of_month: irr})"
   ]
  },
  {
   "cell_type": "code",
   "execution_count": 218,
   "metadata": {},
   "outputs": [
    {
     "data": {
      "text/plain": [
       "(0.07, 0.12)"
      ]
     },
     "execution_count": 218,
     "metadata": {},
     "output_type": "execute_result"
    },
    {
     "data": {
      "image/png": "[encoded data removed]",
      "text/plain": [
       "<Figure size 720x576 with 1 Axes>"
      ]
     },
     "metadata": {
      "needs_background": "light"
     },
     "output_type": "display_data"
    }
   ],
   "source": [
    "fig = plt.figure(figsize=(10,8))\n",
    "# irr_coll\n",
    "df_irr = pd.DataFrame.from_dict(irr_coll_m, orient='index').reset_index()\n",
    "df_irr = df_irr.melt(id_vars='index')\n",
    "df_irr\n",
    "# df_irr.columns=['day', 'irr']\n",
    "sns.barplot(data=df_irr, x='index', y='value')\n",
    "plt.axhline(np.median(df_irr.value), color='red')\n",
    "plt.ylim((0.07, 0.12))"
   ]
  },
  {
   "cell_type": "markdown",
   "metadata": {},
   "source": [
    "## Weekly"
   ]
  },
  {
   "cell_type": "code",
   "execution_count": 215,
   "metadata": {},
   "outputs": [],
   "source": [
    "amount = 1000 # Amount saved per month\n",
    "# amount_inc_pa = 1% # Increase of amount saved per month every year\n",
    "\n",
    "weekdays = [1,2,3,4,5] # Day of month when savings plan is executed\n",
    "number_of_years = 5 # Number of years in simulation\n",
    "\n",
    "n_windows = 20 # Number of timeshifts\n",
    "\n",
    "month_start = datetime(2014, 2, 1)\n",
    "month_end = month_start +  relativedelta(years=number_of_years)\n",
    "\n",
    "# Collect IRR\n",
    "irr_coll_w = {i: [] for i in weekdays}\n",
    "\n",
    "for i in range(n_windows):\n",
    "    month_start_i = month_start + relativedelta(months=i)\n",
    "    month_end = month_start_i +  relativedelta(years=number_of_years)\n",
    "\n",
    "    for weekday in weekdays:\n",
    "\n",
    "        # Days when savings plan gets executed\n",
    "        # Start with a monday !\n",
    "        df_savings = pd.DataFrame(pd.date_range(month_start, month_end, freq='W-MON') + timedelta(days=weekday), columns=['Date'])\n",
    "\n",
    "        # Add prices per day\n",
    "        df_savings = df_savings.join(prices, on='Date')\n",
    "\n",
    "        # Calculate buying price: (high - low)\n",
    "        df_savings['Price'] = (df_savings['High'] + df_savings['Low']) / 2\n",
    "\n",
    "        # TODO: Transaction costs!!!!\n",
    "\n",
    "        # Calculate number of shares bought each day\n",
    "        df_savings['N'] = amount / df_savings['Price']\n",
    "\n",
    "        # Cumulative number of shares\n",
    "        df_savings['N_cum'] = df_savings.N.cumsum()\n",
    "\n",
    "        # Cumulative value of portfolio\n",
    "        df_savings['Value'] = df_savings['N_cum'] * df_savings['Close']\n",
    "\n",
    "        # Calculate IRR\n",
    "        N = df_savings.shape[0]\n",
    "        val = df_savings.loc[N-1, 'Value']\n",
    "\n",
    "        cf = [-amount] * N\n",
    "        cf[len(cf)-1] += val\n",
    "\n",
    "        irr = xirr(df_savings.Date, cf)\n",
    "        # irr_coll[day_of_month] = [irr_coll[day_of_month], irr]\n",
    "        irr_coll_w.setdefault(weekday,[]).append(irr)\n",
    "        # irr_coll.update({day_of_month: irr})\n"
   ]
  },
  {
   "cell_type": "code",
   "execution_count": 216,
   "metadata": {},
   "outputs": [
    {
     "data": {
      "text/plain": [
       "(0.07, 0.12)"
      ]
     },
     "execution_count": 216,
     "metadata": {},
     "output_type": "execute_result"
    },
    {
     "data": {
      "image/png": "[encoded data removed]",
      "text/plain": [
       "<Figure size 720x576 with 1 Axes>"
      ]
     },
     "metadata": {
      "needs_background": "light"
     },
     "output_type": "display_data"
    }
   ],
   "source": [
    "fig = plt.figure(figsize=(10,8))\n",
    "# irr_coll_w\n",
    "df_irr = pd.DataFrame.from_dict(irr_coll_w, orient='index').reset_index()\n",
    "df_irr = df_irr.melt(id_vars='index')\n",
    "df_irr\n",
    "# df_irr.columns=['day', 'irr']\n",
    "sns.barplot(data=df_irr, x='index', y='value')\n",
    "plt.axhline(np.median(df_irr.value), color='red')\n",
    "plt.ylim((0.07, 0.12))"
   ]
  },
  {
   "cell_type": "markdown",
   "metadata": {},
   "source": [
    "## Compare monthly vs weekly\n",
    "\n",
    "boxplot / violinplot, ..."
   ]
  },
  {
   "cell_type": "code",
   "execution_count": 228,
   "metadata": {},
   "outputs": [
    {
     "name": "stdout",
     "output_type": "stream",
     "text": [
      "(0.09322834288148428, 0.09149493768355299)\n"
     ]
    }
   ],
   "source": [
    "print((np.median(list(irr_coll_w.values())), np.median(list(irr_coll_m.values()))))"
   ]
  },
  {
   "cell_type": "code",
   "execution_count": 243,
   "metadata": {},
   "outputs": [
    {
     "data": {
      "text/plain": [
       "<AxesSubplot:ylabel='Density'>"
      ]
     },
     "execution_count": 243,
     "metadata": {},
     "output_type": "execute_result"
    },
    {
     "data": {
      "image/png": "[encoded data removed]",
      "text/plain": [
       "<Figure size 432x288 with 1 Axes>"
      ]
     },
     "metadata": {
      "needs_background": "light"
     },
     "output_type": "display_data"
    }
   ],
   "source": [
    "from itertools import chain\n",
    "sns.histplot(x = list(chain(*list(irr_coll_w.values()))), stat='density')\n",
    "sns.histplot(x = list(chain(*list(irr_coll_m.values()))), color='orange', stat='density')"
   ]
  }
 ],
 "metadata": {
  "interpreter": {
   "hash": "869cfd7152767b6c01cc3b1a533d38f34d102a29f7c510c98fad66d349226c64"
  },
  "kernelspec": {
   "display_name": "Python 3.8.10 64-bit",
   "name": "python3"
  },
  "language_info": {
   "codemirror_mode": {
    "name": "ipython",
    "version": 3
   },
   "file_extension": ".py",
   "mimetype": "text/x-python",
   "name": "python",
   "nbconvert_exporter": "python",
   "pygments_lexer": "ipython3",
   "version": "3.8.10"
  },
  "orig_nbformat": 4
 },
 "nbformat": 4,
 "nbformat_minor": 2
}
