{
 "cells": [
  {
   "cell_type": "markdown",
   "metadata": {},
   "source": [
    "# Prices \n",
    "\n",
    "Get price data from specified source. Expect to get OHLCV. \n",
    "\n",
    "## Sources\n",
    "\n",
    "Current data source: YahooFinance\n",
    "\n",
    "Considered future data source: IEXCloud\n",
    "\n",
    "\n",
    "## Problems\n",
    "\n",
    "Symbols are not always easy to determine. For old or smaller ETF-products, price data for certain symbols is not available at all.\n",
    "This is a major data source problem.\n",
    "\n",
    "Change from YahooFinance to IEXCloud or other paid data provider under consideration.\n"
   ]
  },
  {
   "cell_type": "code",
   "execution_count": 1,
   "metadata": {},
   "outputs": [],
   "source": [
    "# General\n",
    "import pandas as pd\n",
    "from datetime import datetime\n",
    "import random\n",
    "import time\n",
    "from dateutil.relativedelta import relativedelta\n",
    "\n",
    "# File download\n",
    "import yfinance as yf \n",
    "from tqdm.notebook import tqdm, trange\n",
    "\n",
    "# Custom modules\n",
    "from Tools import S3\n",
    "\n",
    "# Hidden configurations\n",
    "from mySecrets import config_file, AWS_ACCESS_KEY_ID, AWS_SECRET_ACCESS_KEY, AWS_BUCKET\n"
   ]
  },
  {
   "cell_type": "code",
   "execution_count": 9,
   "metadata": {},
   "outputs": [
    {
     "name": "stdout",
     "output_type": "stream",
     "text": [
      "Connected.\n"
     ]
    }
   ],
   "source": [
    "# Connect to AWS S3 storage\n",
    "s3 = S3()\n",
    "s3.connect(AWS_ACCESS_KEY_ID, AWS_SECRET_ACCESS_KEY)"
   ]
  },
  {
   "cell_type": "code",
   "execution_count": 3,
   "metadata": {},
   "outputs": [
    {
     "data": {
      "text/html": [
       "<div>\n",
       "<style scoped>\n",
       "    .dataframe tbody tr th:only-of-type {\n",
       "        vertical-align: middle;\n",
       "    }\n",
       "\n",
       "    .dataframe tbody tr th {\n",
       "        vertical-align: top;\n",
       "    }\n",
       "\n",
       "    .dataframe thead th {\n",
       "        text-align: right;\n",
       "    }\n",
       "</style>\n",
       "<table border=\"1\" class=\"dataframe\">\n",
       "  <thead>\n",
       "    <tr style=\"text-align: right;\">\n",
       "      <th></th>\n",
       "      <th>Security_ISIN</th>\n",
       "      <th>Sym_YahooFin</th>\n",
       "      <th>Ex_YahooFin</th>\n",
       "      <th>CCY_YahooFin</th>\n",
       "    </tr>\n",
       "  </thead>\n",
       "  <tbody>\n",
       "    <tr>\n",
       "      <th>4</th>\n",
       "      <td>LU0836512888</td>\n",
       "      <td>B92C.MU</td>\n",
       "      <td>MUN</td>\n",
       "      <td>EUR</td>\n",
       "    </tr>\n",
       "    <tr>\n",
       "      <th>12</th>\n",
       "      <td>IE00B8KGV557</td>\n",
       "      <td>EUNZ.DE</td>\n",
       "      <td>ETR</td>\n",
       "      <td>EUR</td>\n",
       "    </tr>\n",
       "    <tr>\n",
       "      <th>13</th>\n",
       "      <td>IE00B86MWN23</td>\n",
       "      <td>EUN0.DE</td>\n",
       "      <td>ETR</td>\n",
       "      <td>EUR</td>\n",
       "    </tr>\n",
       "    <tr>\n",
       "      <th>14</th>\n",
       "      <td>IE00B8FHGS14</td>\n",
       "      <td>IQQ0.DE</td>\n",
       "      <td>ETR</td>\n",
       "      <td>EUR</td>\n",
       "    </tr>\n",
       "    <tr>\n",
       "      <th>15</th>\n",
       "      <td>IE00B6SPMN59</td>\n",
       "      <td>IBCK.DE</td>\n",
       "      <td>ETR</td>\n",
       "      <td>EUR</td>\n",
       "    </tr>\n",
       "  </tbody>\n",
       "</table>\n",
       "</div>"
      ],
      "text/plain": [
       "   Security_ISIN Sym_YahooFin Ex_YahooFin CCY_YahooFin\n",
       "4   LU0836512888      B92C.MU         MUN          EUR\n",
       "12  IE00B8KGV557      EUNZ.DE         ETR          EUR\n",
       "13  IE00B86MWN23      EUN0.DE         ETR          EUR\n",
       "14  IE00B8FHGS14      IQQ0.DE         ETR          EUR\n",
       "15  IE00B6SPMN59      IBCK.DE         ETR          EUR"
      ]
     },
     "execution_count": 3,
     "metadata": {},
     "output_type": "execute_result"
    }
   ],
   "source": [
    "# Read config table for (ISIN / Provider) mapping\n",
    "config = pd.read_excel(config_file, sheet_name = \"ETF_Overview\", header = 1)\n",
    "\n",
    "# Select relevant columns\n",
    "config = config[['Security_ISIN', 'Sym_YahooFin', 'Ex_YahooFin', 'CCY_YahooFin']]\n",
    "\n",
    "# Drop columns without symbols\n",
    "config = config.dropna(subset = ['Sym_YahooFin', 'CCY_YahooFin'])\n",
    "\n",
    "config.head()"
   ]
  },
  {
   "cell_type": "code",
   "execution_count": 4,
   "metadata": {},
   "outputs": [],
   "source": [
    "# Define range for price data\n",
    "date_start = '2014-01-01'\n",
    "date_end = datetime.today()\n",
    "# date_start = date_end + relativedelta(months = -12)"
   ]
  },
  {
   "cell_type": "code",
   "execution_count": 5,
   "metadata": {},
   "outputs": [
    {
     "data": {
      "text/plain": [
       "'B92C.MU EUNZ.DE EUN0.DE IQQ0.DE IBCK.DE ISDE.L ISU'"
      ]
     },
     "execution_count": 5,
     "metadata": {},
     "output_type": "execute_result"
    }
   ],
   "source": [
    "# Define list of symbols for batch download\n",
    "symbols = config['Sym_YahooFin']\n",
    "symbols = ' '.join(symbols)\n",
    "symbols[:50]"
   ]
  },
  {
   "cell_type": "code",
   "execution_count": 6,
   "metadata": {},
   "outputs": [
    {
     "name": "stdout",
     "output_type": "stream",
     "text": [
      "[*********************100%***********************]  1040 of 1040 completed\n",
      "\n",
      "43 Failed downloads:\n",
      "- IE00BNC1G707.SG: No data found for this date range, symbol may be delisted\n",
      "- IE00BNC1G699.SG: No data found for this date range, symbol may be delisted\n",
      "- LU1834983550.SG: No data found for this date range, symbol may be delisted\n",
      "- IE00BGV5VN51.SG: No data found for this date range, symbol may be delisted\n",
      "- FR0010342592.SG: No data found for this date range, symbol may be delisted\n",
      "- LU1407890620.SG: No data found for this date range, symbol may be delisted\n",
      "- ESTE.F: No data found for this date range, symbol may be delisted\n",
      "- LU2082997516.SG: No data found for this date range, symbol may be delisted\n",
      "- GPAB.L: No data found for this date range, symbol may be delisted\n",
      "- EB3M.F: No data found for this date range, symbol may be delisted\n",
      "- 0XCK.IL: No data found for this date range, symbol may be delisted\n",
      "- LU0908501488.SG: No data found for this date range, symbol may be delisted\n",
      "- XMBR.L: No data found for this date range, symbol may be delisted\n",
      "- XMEM.L: No data found for this date range, symbol may be delisted\n",
      "- LU2090062352.SG: No data found for this date range, symbol may be delisted\n",
      "- LU1646360542.SG: No data found for this date range, symbol may be delisted\n",
      "- LU2090062782.SG: No data found for this date range, symbol may be delisted\n",
      "- FR0011720911.SG: No data found for this date range, symbol may be delisted\n",
      "- B92C.MU: No data found for this date range, symbol may be delisted\n",
      "- LVDX.F: No data found for this date range, symbol may be delisted\n",
      "- 0TPE.L: No data found for this date range, symbol may be delisted\n",
      "- E6BR.F: No data found for this date range, symbol may be delisted\n",
      "- LU1563454310.SG: No data found for this date range, symbol may be delisted\n",
      "- LU1190417599.SG: No data found for this date range, symbol may be delisted\n",
      "- IQCY.L: No data found for this date range, symbol may be delisted\n",
      "- LU0959210278.SG: No data found for this date range, symbol may be delisted\n",
      "- OM3F.F: No data found for this date range, symbol may be delisted\n",
      "- IE00BDFK1573.SG: No data found for this date range, symbol may be delisted\n",
      "- LU1650492256.SG: No data found for this date range, symbol may be delisted\n",
      "- DE000ETF9090.SG: No data found for this date range, symbol may be delisted\n",
      "- LU0496786657.SG: No data found for this date range, symbol may be delisted\n",
      "- OILG.SW: No data found for this date range, symbol may be delisted\n",
      "- XMEU.L: No data found for this date range, symbol may be delisted\n",
      "- LU1220245556.SG: No data found for this date range, symbol may be delisted\n",
      "- XGSD.L: No data found for this date range, symbol may be delisted\n",
      "- LU0959211243.SG: No data found for this date range, symbol may be delisted\n",
      "- LU2082999306.SG: No data found for this date range, symbol may be delisted\n",
      "- LTWA.F: No data found for this date range, symbol may be delisted\n",
      "- LU1834985845.SG: No data found for this date range, symbol may be delisted\n",
      "- IE00BGV5VM45.SG: No data found for this date range, symbol may be delisted\n",
      "- LU1691909508.SG: No data found for this date range, symbol may be delisted\n",
      "- UTIT.SW: No data found for this date range, symbol may be delisted\n",
      "- LU1407888053.SG: No data found for this date range, symbol may be delisted\n"
     ]
    }
   ],
   "source": [
    "# Get price data\n",
    "data = yf.download(tickers = symbols, interval = \"1d\", start = date_start, end = date_end, group_by = 'ticker')\n"
   ]
  },
  {
   "cell_type": "code",
   "execution_count": 7,
   "metadata": {},
   "outputs": [],
   "source": [
    "# Check which symbols failed\n",
    "df = data.stack(level = 0).rename_axis(['Date', 'Symbol']).reset_index(level = 1)\n",
    "\n",
    "# Resetindex to make date-index a column that can be stored in files\n",
    "df = df.reset_index()\n",
    "\n",
    "# Sort columns and keep relevant ones, for now\n",
    "df = df[['Symbol', 'Date', 'Adj Close', 'Open', 'High', 'Low', 'Close', 'Volume']]\n",
    "\n",
    "# Separate by symbols\n",
    "# PL 10.01.2022 -> group by Symbols\n",
    "grouped = df.groupby(df['Symbol'])"
   ]
  },
  {
   "cell_type": "code",
   "execution_count": 10,
   "metadata": {},
   "outputs": [
    {
     "name": "stdout",
     "output_type": "stream",
     "text": [
      "2022_04_15\n"
     ]
    }
   ],
   "source": [
    "# Upload file to s3 storage\n",
    "\n",
    "date = datetime.now().strftime('%Y_%m_%d')\n",
    "print(date)\n",
    "\n",
    "# store as tsv\n",
    "for g in grouped.groups.keys():\n",
    "\n",
    "    temp = grouped.get_group(g)\n",
    "\n",
    "    s3.uploadFile(\n",
    "        df = temp, \n",
    "        name = g,\n",
    "        dir = 'data/price_raw/' + date + \"/\",\n",
    "        bucket = \"pomato\"\n",
    "    )    "
   ]
  },
  {
   "cell_type": "markdown",
   "metadata": {},
   "source": [
    "## Example prices - compare across exchanges\n",
    "\n",
    "Select single stock and compare prices on different exchanges\n",
    "\n",
    "Selection: **Apple Inc.**\n",
    "\n",
    "For the analysis, have a look at:  ***_B012_analyzeData_Prices.ipynb***\n",
    "\n",
    "This query is helpful to find the symbols:\n",
    "https://query2.finance.yahoo.com/v1/finance/search?q=Apple&quotesCount=20&newsCount=0"
   ]
  },
  {
   "cell_type": "code",
   "execution_count": 4,
   "metadata": {},
   "outputs": [
    {
     "data": {
      "text/html": [
       "<div>\n",
       "<style scoped>\n",
       "    .dataframe tbody tr th:only-of-type {\n",
       "        vertical-align: middle;\n",
       "    }\n",
       "\n",
       "    .dataframe tbody tr th {\n",
       "        vertical-align: top;\n",
       "    }\n",
       "\n",
       "    .dataframe thead th {\n",
       "        text-align: right;\n",
       "    }\n",
       "</style>\n",
       "<table border=\"1\" class=\"dataframe\">\n",
       "  <thead>\n",
       "    <tr style=\"text-align: right;\">\n",
       "      <th></th>\n",
       "      <th>Symbol</th>\n",
       "      <th>CCY</th>\n",
       "      <th>Exchange</th>\n",
       "    </tr>\n",
       "  </thead>\n",
       "  <tbody>\n",
       "    <tr>\n",
       "      <th>0</th>\n",
       "      <td>AAPL</td>\n",
       "      <td>USD</td>\n",
       "      <td>NasdaqGS</td>\n",
       "    </tr>\n",
       "    <tr>\n",
       "      <th>1</th>\n",
       "      <td>AAPL.NE</td>\n",
       "      <td>CAD</td>\n",
       "      <td>NEO</td>\n",
       "    </tr>\n",
       "    <tr>\n",
       "      <th>2</th>\n",
       "      <td>AAPL.MX</td>\n",
       "      <td>MXN</td>\n",
       "      <td>Mexico</td>\n",
       "    </tr>\n",
       "    <tr>\n",
       "      <th>3</th>\n",
       "      <td>AAPL.BA</td>\n",
       "      <td>ARS</td>\n",
       "      <td>Buenos Aires</td>\n",
       "    </tr>\n",
       "    <tr>\n",
       "      <th>4</th>\n",
       "      <td>AAPLD.BA</td>\n",
       "      <td>USD</td>\n",
       "      <td>Buenos Aires</td>\n",
       "    </tr>\n",
       "  </tbody>\n",
       "</table>\n",
       "</div>"
      ],
      "text/plain": [
       "     Symbol  CCY      Exchange\n",
       "0      AAPL  USD      NasdaqGS\n",
       "1   AAPL.NE  CAD           NEO\n",
       "2   AAPL.MX  MXN        Mexico\n",
       "3   AAPL.BA  ARS  Buenos Aires\n",
       "4  AAPLD.BA  USD  Buenos Aires"
      ]
     },
     "execution_count": 4,
     "metadata": {},
     "output_type": "execute_result"
    }
   ],
   "source": [
    "df_sym_sel = [\n",
    "    # North America\n",
    "    # ~ USA\n",
    "    ['AAPL', 'USD', 'NasdaqGS'],\n",
    "\n",
    "    # ~ Canada\n",
    "    ['AAPL.NE', 'CAD', 'NEO'],\n",
    "\n",
    "    # ~ Mexico\n",
    "    ['AAPL.MX', 'MXN', 'Mexico'],\n",
    "\n",
    "    # Latin America\n",
    "    # ~ Argentina\n",
    "    ['AAPL.BA', 'ARS', 'Buenos Aires'],\n",
    "    ['AAPLD.BA', 'USD', 'Buenos Aires'],\n",
    "\n",
    "    # ~ Chile\n",
    "    ['AAPL.SN', 'USD', 'Santiago'],\n",
    "    ['AAPLLCL.SN', 'CLP', 'Santiago'],\n",
    "\n",
    "    # ~ Brazil\n",
    "    ['AAPL34.SA', 'BRL', 'Sao Paulo'],\n",
    "\n",
    "    # European Exchanges\n",
    "    # ~ Germany\n",
    "    ['APC.DE', 'EUR', 'Xetra'],\n",
    "    ['APC.F', 'EUR', 'Frankfurt'],\n",
    "    ['APC.DU', 'EUR', 'Dusseldorf'],\n",
    "    ['APC.BE', 'EUR', 'Berlin'],\n",
    "    ['APC.HM', 'EUR', 'Hamburg'],\n",
    "    ['APC.HA', 'EUR', 'Hanover'],\n",
    "    ['APC.MU', 'EUR', 'Munich'],\n",
    "    ['APC.SG', 'EUR', 'Stuttgart'],\n",
    "\n",
    "    # ~ Austria\n",
    "    ['AAPL.VI', 'EUR', 'Vienna'],\n",
    "\n",
    "    # ~ Italy\n",
    "    ['AAPL.MI', 'EUR', 'Milan'],\n",
    "\n",
    "    # ~ UK\n",
    "    ['0R2V.IL', 'USD', 'IOB']\n",
    "\n",
    "\n",
    "]\n",
    "\n",
    "df_sym_sel = pd.DataFrame(df_sym_sel, columns=['Symbol', 'CCY', 'Exchange'])\n",
    "df_sym_sel.head()"
   ]
  },
  {
   "cell_type": "code",
   "execution_count": 8,
   "metadata": {},
   "outputs": [
    {
     "name": "stdout",
     "output_type": "stream",
     "text": [
      "[*********************100%***********************]  19 of 19 completed\n",
      "\n",
      "1 Failed download:\n",
      "- AAPLLCL.SN: No data found, symbol may be delisted\n"
     ]
    }
   ],
   "source": [
    "date_start = '2021-01-01'\n",
    "date_end = datetime.today()\n",
    "\n",
    "symbols = df_sym_sel['Symbol']\n",
    "symbols = ' '.join(symbols)\n",
    "\n",
    "data = yf.download(tickers = symbols, interval = \"1d\", start = date_start, end = date_end, group_by = 'ticker')"
   ]
  },
  {
   "cell_type": "code",
   "execution_count": 9,
   "metadata": {},
   "outputs": [],
   "source": [
    "# Check which symbols failed\n",
    "df = data.stack(level = 0).rename_axis(['Date', 'Symbol']).reset_index(level = 1)\n",
    "\n",
    "# Resetindex to make date-index a column that can be stored in files\n",
    "df = df.reset_index()\n",
    "\n",
    "# Sort columns and keep relevant ones, for now\n",
    "df = df[['Symbol', 'Date', 'Adj Close', 'Open', 'High', 'Low', 'Close', 'Volume']]\n",
    "\n",
    "# Separate by symbols\n",
    "# PL 10.01.2022 -> group by Symbols\n",
    "grouped = df.groupby(df['Symbol'])"
   ]
  },
  {
   "cell_type": "code",
   "execution_count": 10,
   "metadata": {},
   "outputs": [],
   "source": [
    "# Upload file to s3 storage\n",
    "\n",
    "date = datetime.now().strftime('%Y_%m_%d')\n",
    "\n",
    "# store as tsv\n",
    "for g in grouped.groups.keys():\n",
    "\n",
    "    temp = grouped.get_group(g)\n",
    "\n",
    "    s3.uploadFile(\n",
    "        df = temp, \n",
    "        name = g,\n",
    "        dir = 'data/price_raw/' + date + \"/\",\n",
    "        bucket = AWS_BUCKET\n",
    "    )    "
   ]
  }
 ],
 "metadata": {
  "interpreter": {
   "hash": "869cfd7152767b6c01cc3b1a533d38f34d102a29f7c510c98fad66d349226c64"
  },
  "kernelspec": {
   "display_name": "Python 3.8.10 64-bit",
   "name": "python3"
  },
  "language_info": {
   "codemirror_mode": {
    "name": "ipython",
    "version": 3
   },
   "file_extension": ".py",
   "mimetype": "text/x-python",
   "name": "python",
   "nbconvert_exporter": "python",
   "pygments_lexer": "ipython3",
   "version": "3.8.10"
  },
  "orig_nbformat": 4
 },
 "nbformat": 4,
 "nbformat_minor": 2
}
