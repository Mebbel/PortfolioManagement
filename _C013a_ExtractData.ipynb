{
 "cells": [
  {
   "cell_type": "markdown",
   "metadata": {},
   "source": [
    "# Extract table from html file"
   ]
  },
  {
   "cell_type": "code",
   "execution_count": 172,
   "metadata": {},
   "outputs": [],
   "source": [
    "import re\n",
    "\n",
    "import numpy as np\n",
    "import pandas as pd"
   ]
  },
  {
   "cell_type": "code",
   "execution_count": 318,
   "metadata": {},
   "outputs": [],
   "source": [
    "# Settings\n",
    "\n",
    "symbols = [\n",
    "    'AAPL', 'AMZN', 'GOOG', 'JNJ', 'JPM', 'KO', 'META', \n",
    "    'NVDA', 'PYPL', 'TSLA', 'UNH', 'V', 'XOM'\n",
    "    ]"
   ]
  },
  {
   "cell_type": "code",
   "execution_count": 322,
   "metadata": {},
   "outputs": [],
   "source": [
    "# Functions\n",
    "def read_html(sym):\n",
    "    file = \"C:/Users\\phili\\OneDrive\\GitHub\\Portfolio_Management\\macrotrends\\{0}_income.htm\".format(sym)\n",
    "    HtmlFile = open(file, 'r', encoding='utf-8')\n",
    "    source_code = HtmlFile.read() \n",
    "\n",
    "    return source_code\n",
    "\n",
    "def str_col_cleaner(x):\n",
    "    # Catch empty records\n",
    "    if x == '\"\"':\n",
    "        return 0\n",
    "    else:\n",
    "        return float(eval(x))\n",
    "\n",
    "def extract_table_from_html(source_code):\n",
    "\n",
    "    # Extract table\n",
    "    t = re.findall(r\"var originalData = .*\", source_code)\n",
    "\n",
    "    titles = re.findall(r\"field_name.*?('>.*?)popup_icon\", t[0], re.S)\n",
    "    values = re.findall(r'\\\",?(\"2022.*?)}', t[0], re.S)\n",
    "\n",
    "    # Clean titles\n",
    "    titles = [re.findall(r\">([A-Za-z &-\\\\]+)<\", i) for i in titles]\n",
    "    # Replace \\\\ /\n",
    "    titles = [i[0].replace(\"\\\\\", \"\") for i in titles]\n",
    "\n",
    "    df = pd.DataFrame()\n",
    "\n",
    "    for idx, title in enumerate(titles):\n",
    "\n",
    "        temp = [i.split(\":\") for i in values[idx].split(\",\")]\n",
    "        temp = pd.DataFrame.from_dict({i:[j] for i,j in temp}, orient='index', columns=[title]).reset_index()\n",
    "        # There are some weird quotation marks. cannot replace them easily\n",
    "        temp[title] = temp[title].apply(lambda x: str_col_cleaner(x))\n",
    "        temp['index'] = [eval(i) for i in temp['index']]\n",
    "        if idx == 0:\n",
    "            df = df.append(temp)\n",
    "        else:\n",
    "            df = df.join(temp.set_index('index'), on='index')\n",
    "\n",
    "    return df\n",
    "    \n",
    "    "
   ]
  },
  {
   "cell_type": "code",
   "execution_count": 324,
   "metadata": {},
   "outputs": [
    {
     "name": "stdout",
     "output_type": "stream",
     "text": [
      "AAPL\n",
      "AMZN\n",
      "GOOG\n",
      "JNJ\n",
      "JPM\n",
      "KO\n",
      "META\n",
      "NVDA\n",
      "PYPL\n",
      "TSLA\n",
      "UNH\n",
      "V\n",
      "XOM\n"
     ]
    }
   ],
   "source": [
    "for sym in symbols:\n",
    "    print(sym)\n",
    "\n",
    "    source_code = read_html(sym)\n",
    "\n",
    "    df = extract_table_from_html(source_code)\n",
    "\n",
    "    df.to_csv(\"C:/Users\\phili\\OneDrive\\GitHub\\Portfolio_Management\\macrotrends\\{0}_income.csv\".format(sym), sep=\";\", decimal=\",\")\n"
   ]
  }
 ],
 "metadata": {
  "interpreter": {
   "hash": "869cfd7152767b6c01cc3b1a533d38f34d102a29f7c510c98fad66d349226c64"
  },
  "kernelspec": {
   "display_name": "Python 3.8.10 64-bit",
   "name": "python3"
  },
  "language_info": {
   "codemirror_mode": {
    "name": "ipython",
    "version": 3
   },
   "file_extension": ".py",
   "mimetype": "text/x-python",
   "name": "python",
   "nbconvert_exporter": "python",
   "pygments_lexer": "ipython3",
   "version": "3.8.10"
  },
  "orig_nbformat": 4
 },
 "nbformat": 4,
 "nbformat_minor": 2
}
