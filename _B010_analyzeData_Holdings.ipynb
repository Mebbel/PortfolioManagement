{
 "cells": [
  {
   "cell_type": "markdown",
   "metadata": {},
   "source": [
    "# Data - Holdings\n",
    "\n",
    "Analysis of the structure, availability and quality of holdings data from different ETF-providers.\n",
    "\n",
    "## Outline\n",
    "\n",
    "* Define and import a selection of ETFs holdings from different providers\n",
    "* Analyze available columns\n",
    "* Compare naming conventions of different data colunns over different providers"
   ]
  },
  {
   "cell_type": "code",
   "execution_count": 1,
   "metadata": {},
   "outputs": [],
   "source": [
    "# General\n",
    "import pandas as pd\n",
    "\n",
    "# Hidden configurations\n",
    "from mySecrets import config_file, AWS_ACCESS_KEY_ID, AWS_SECRET_ACCESS_KEY, AWS_BUCKET\n",
    "\n",
    "# Custom modules\n",
    "import Tools"
   ]
  },
  {
   "cell_type": "code",
   "execution_count": 2,
   "metadata": {},
   "outputs": [
    {
     "data": {
      "text/html": [
       "<div>\n",
       "<style scoped>\n",
       "    .dataframe tbody tr th:only-of-type {\n",
       "        vertical-align: middle;\n",
       "    }\n",
       "\n",
       "    .dataframe tbody tr th {\n",
       "        vertical-align: top;\n",
       "    }\n",
       "\n",
       "    .dataframe thead th {\n",
       "        text-align: right;\n",
       "    }\n",
       "</style>\n",
       "<table border=\"1\" class=\"dataframe\">\n",
       "  <thead>\n",
       "    <tr style=\"text-align: right;\">\n",
       "      <th></th>\n",
       "      <th>Security_ISIN</th>\n",
       "      <th>Fund_Company</th>\n",
       "      <th>Type</th>\n",
       "    </tr>\n",
       "  </thead>\n",
       "  <tbody>\n",
       "    <tr>\n",
       "      <th>0</th>\n",
       "      <td>LU0836512706</td>\n",
       "      <td>iShares</td>\n",
       "      <td>Aktien</td>\n",
       "    </tr>\n",
       "    <tr>\n",
       "      <th>1</th>\n",
       "      <td>LU0836513852</td>\n",
       "      <td>iShares</td>\n",
       "      <td>Anleihen</td>\n",
       "    </tr>\n",
       "    <tr>\n",
       "      <th>2</th>\n",
       "      <td>LU0836512615</td>\n",
       "      <td>iShares</td>\n",
       "      <td>Aktien</td>\n",
       "    </tr>\n",
       "    <tr>\n",
       "      <th>3</th>\n",
       "      <td>LU0836513266</td>\n",
       "      <td>iShares</td>\n",
       "      <td>Anleihen</td>\n",
       "    </tr>\n",
       "    <tr>\n",
       "      <th>4</th>\n",
       "      <td>LU0836512888</td>\n",
       "      <td>iShares</td>\n",
       "      <td>Aktien</td>\n",
       "    </tr>\n",
       "  </tbody>\n",
       "</table>\n",
       "</div>"
      ],
      "text/plain": [
       "  Security_ISIN Fund_Company      Type\n",
       "0  LU0836512706      iShares    Aktien\n",
       "1  LU0836513852      iShares  Anleihen\n",
       "2  LU0836512615      iShares    Aktien\n",
       "3  LU0836513266      iShares  Anleihen\n",
       "4  LU0836512888      iShares    Aktien"
      ]
     },
     "execution_count": 2,
     "metadata": {},
     "output_type": "execute_result"
    }
   ],
   "source": [
    "# Read config table for (ISIN / Provider) mapping\n",
    "config = pd.read_excel(config_file, sheet_name=\"ETF_Overview\", header=1)\n",
    "config = config[['Security_ISIN', 'Fund_Company', 'Type']]\n",
    "config.head()"
   ]
  },
  {
   "cell_type": "code",
   "execution_count": 1,
   "metadata": {},
   "outputs": [],
   "source": [
    "# Connect to AWS S3 storage\n",
    "s3 = Tools.S3()\n",
    "s3.connect(AWS_ACCESS_KEY_ID, AWS_SECRET_ACCESS_KEY)"
   ]
  },
  {
   "cell_type": "code",
   "execution_count": 5,
   "metadata": {},
   "outputs": [
    {
     "data": {
      "text/html": [
       "<div>\n",
       "<style scoped>\n",
       "    .dataframe tbody tr th:only-of-type {\n",
       "        vertical-align: middle;\n",
       "    }\n",
       "\n",
       "    .dataframe tbody tr th {\n",
       "        vertical-align: top;\n",
       "    }\n",
       "\n",
       "    .dataframe thead th {\n",
       "        text-align: right;\n",
       "    }\n",
       "</style>\n",
       "<table border=\"1\" class=\"dataframe\">\n",
       "  <thead>\n",
       "    <tr style=\"text-align: right;\">\n",
       "      <th></th>\n",
       "      <th>ISIN_FUND</th>\n",
       "      <th>ISIN</th>\n",
       "      <th>NAME</th>\n",
       "      <th>WEIGHT</th>\n",
       "      <th>TICKER</th>\n",
       "      <th>SECTOR</th>\n",
       "      <th>EXCHANGE</th>\n",
       "      <th>COUNTRY</th>\n",
       "    </tr>\n",
       "  </thead>\n",
       "  <tbody>\n",
       "    <tr>\n",
       "      <th>0</th>\n",
       "      <td>DE0002635265</td>\n",
       "      <td>DE000HV2AS10</td>\n",
       "      <td>UNICREDIT BANK AG RegS</td>\n",
       "      <td>1.01</td>\n",
       "      <td>HVB</td>\n",
       "      <td>Gedeckt</td>\n",
       "      <td>-</td>\n",
       "      <td>Deutschland</td>\n",
       "    </tr>\n",
       "    <tr>\n",
       "      <th>1</th>\n",
       "      <td>DE0002635265</td>\n",
       "      <td>DE000A1KRJV6</td>\n",
       "      <td>ING DIBA AG RegS</td>\n",
       "      <td>0.97</td>\n",
       "      <td>INGDIB</td>\n",
       "      <td>Gedeckt</td>\n",
       "      <td>-</td>\n",
       "      <td>Deutschland</td>\n",
       "    </tr>\n",
       "    <tr>\n",
       "      <th>2</th>\n",
       "      <td>DE0002635265</td>\n",
       "      <td>DE000CZ45VS1</td>\n",
       "      <td>COMMERZBANK AG MTN RegS</td>\n",
       "      <td>0.88</td>\n",
       "      <td>CMZB</td>\n",
       "      <td>Gedeckt</td>\n",
       "      <td>-</td>\n",
       "      <td>Deutschland</td>\n",
       "    </tr>\n",
       "    <tr>\n",
       "      <th>3</th>\n",
       "      <td>DE0002635265</td>\n",
       "      <td>XS2106576494</td>\n",
       "      <td>LANDESBANK HESSEN THUERINGEN GIROZ MTN RegS</td>\n",
       "      <td>0.84</td>\n",
       "      <td>HESLAN</td>\n",
       "      <td>Gedeckt</td>\n",
       "      <td>-</td>\n",
       "      <td>Deutschland</td>\n",
       "    </tr>\n",
       "    <tr>\n",
       "      <th>4</th>\n",
       "      <td>DE0002635265</td>\n",
       "      <td>XS1767931477</td>\n",
       "      <td>LANDESBANK HESSEN THUERINGEN GIROZ RegS</td>\n",
       "      <td>0.83</td>\n",
       "      <td>HESLAN</td>\n",
       "      <td>Gedeckt</td>\n",
       "      <td>-</td>\n",
       "      <td>Deutschland</td>\n",
       "    </tr>\n",
       "  </tbody>\n",
       "</table>\n",
       "</div>"
      ],
      "text/plain": [
       "      ISIN_FUND          ISIN                                         NAME  \\\n",
       "0  DE0002635265  DE000HV2AS10                       UNICREDIT BANK AG RegS   \n",
       "1  DE0002635265  DE000A1KRJV6                             ING DIBA AG RegS   \n",
       "2  DE0002635265  DE000CZ45VS1                      COMMERZBANK AG MTN RegS   \n",
       "3  DE0002635265  XS2106576494  LANDESBANK HESSEN THUERINGEN GIROZ MTN RegS   \n",
       "4  DE0002635265  XS1767931477      LANDESBANK HESSEN THUERINGEN GIROZ RegS   \n",
       "\n",
       "   WEIGHT  TICKER   SECTOR EXCHANGE      COUNTRY  \n",
       "0    1.01     HVB  Gedeckt        -  Deutschland  \n",
       "1    0.97  INGDIB  Gedeckt        -  Deutschland  \n",
       "2    0.88    CMZB  Gedeckt        -  Deutschland  \n",
       "3    0.84  HESLAN  Gedeckt        -  Deutschland  \n",
       "4    0.83  HESLAN  Gedeckt        -  Deutschland  "
      ]
     },
     "execution_count": 5,
     "metadata": {},
     "output_type": "execute_result"
    }
   ],
   "source": [
    "# Download all position files\n",
    "file_list = s3.listFiles(AWS_BUCKET, \"data/position_trans/2022_03_04\")\n",
    "\n",
    "# Filter to files ending in .tsv\n",
    "file_list = [i for i in file_list if '.tsv' in i]\n",
    "\n",
    "positions = pd.DataFrame(columns = ['ISIN_FUND', 'ISIN', 'NAME', 'WEIGHT', 'TICKER', 'SECTOR', 'EXCHANGE', 'COUNTRY'])\n",
    "\n",
    "for key in file_list:\n",
    "\n",
    "    data = s3.readFile(AWS_BUCKET, key, sep = \"\\t\")  \n",
    "\n",
    "    # Subset columns\n",
    "    cols = ['ISIN_FUND', 'ISIN', 'NAME', 'WEIGHT', 'TICKER', 'SECTOR', 'EXCHANGE', 'COUNTRY']\n",
    "    data = data[[i for i in cols if i in data.columns]]\n",
    "\n",
    "    # Append \n",
    "    positions = positions.append(data)\n",
    "\n",
    "# Store in data format readable by both Python and R\n",
    "positions = positions.reset_index().drop(['index'], axis = 1)\n",
    "\n",
    "positions.head()"
   ]
  },
  {
   "cell_type": "code",
   "execution_count": 15,
   "metadata": {},
   "outputs": [
    {
     "data": {
      "text/plain": [
       "array(['MICROSOFT CORP', 'MICROSOFT CORPORATION', 'MICROSOFT-T ORD',\n",
       "       'MICROSOFT CORP 08/26 594918BR', 'MICROSOFT CORP 11/25 594918BJ',\n",
       "       'MICROSOFT CORP 06/27 594918BY', 'MICROSOFT CORP 02/25 594918BB',\n",
       "       'MICROSOFT CORP 06/24 594918BX', 'MICROSOFT CORP 12/23',\n",
       "       'MICROSOFT CORP 08/23 594918BQ', 'MICROSOFT CORP 05/23',\n",
       "       'MICROSOFT CORP 11/22 594918BH', 'MICROSOFT CORP 11/22',\n",
       "       'BBG00ZK0QMV8 MICROSOFT CORPORATION 3/52',\n",
       "       'MICROSOFT COR 2.525% JUN50 6/50',\n",
       "       'MICROSOFT COR 2.675% JUN60 6/60', 'MICROSOFT CORP 08/46 594918BT',\n",
       "       'MICROSOFT CORP 08/36 594918BS',\n",
       "       'BBG00ZK0RSR9 MICROSOFT CORP 00000 62 3/62',\n",
       "       'MICROSOFT CORP 02/35 594918BC', 'MICROSOFT CORP 06/47 594918CA',\n",
       "       'MICROSOFT CORP 11/45 594918BL', 'MICROSOFT CORP 06/37 594918BZ',\n",
       "       'MICROSOFT CORP 06/57 594918CB'], dtype=object)"
      ]
     },
     "execution_count": 15,
     "metadata": {},
     "output_type": "execute_result"
    }
   ],
   "source": [
    "# Analyze naming conventions\n",
    "positions[positions.NAME.str.contains('Microsoft', na = False, case = False)].NAME.unique()"
   ]
  },
  {
   "cell_type": "code",
   "execution_count": 21,
   "metadata": {},
   "outputs": [
    {
     "data": {
      "text/plain": [
       "array(['Vereinigte Staaten', 'USA', 'Vereinigte Staaten von Amerika'],\n",
       "      dtype=object)"
      ]
     },
     "execution_count": 21,
     "metadata": {},
     "output_type": "execute_result"
    }
   ],
   "source": [
    "# Names of countries\n",
    "positions[positions.NAME.str.contains('Microsoft', na = False, case = False)].COUNTRY.unique()"
   ]
  },
  {
   "cell_type": "code",
   "execution_count": 22,
   "metadata": {},
   "outputs": [
    {
     "data": {
      "text/plain": [
       "array(['IT', 'Information Technology', 'Technologie', 'Unternehmen',\n",
       "       'Industrie', 'Informationstechnologie', 'unknown', 'Technology',\n",
       "       'System-Software'], dtype=object)"
      ]
     },
     "execution_count": 22,
     "metadata": {},
     "output_type": "execute_result"
    }
   ],
   "source": [
    "# Names of sectors / industries\n",
    "positions[positions.NAME.str.contains('Microsoft', na = False, case = False)].SECTOR.unique()"
   ]
  }
 ],
 "metadata": {
  "interpreter": {
   "hash": "869cfd7152767b6c01cc3b1a533d38f34d102a29f7c510c98fad66d349226c64"
  },
  "kernelspec": {
   "display_name": "Python 3.8.10 64-bit",
   "name": "python3"
  },
  "language_info": {
   "codemirror_mode": {
    "name": "ipython",
    "version": 3
   },
   "file_extension": ".py",
   "mimetype": "text/x-python",
   "name": "python",
   "nbconvert_exporter": "python",
   "pygments_lexer": "ipython3",
   "version": "3.8.10"
  },
  "orig_nbformat": 4
 },
 "nbformat": 4,
 "nbformat_minor": 2
}
